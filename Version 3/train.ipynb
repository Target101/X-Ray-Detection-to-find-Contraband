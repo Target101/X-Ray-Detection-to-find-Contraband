{
  "cells": [
    {
      "cell_type": "markdown",
      "metadata": {
        "id": "7T1HwcJyENJC"
      },
      "source": [
        "## Import packages"
      ]
    },
    {
      "cell_type": "code",
      "execution_count": 9,
      "metadata": {
        "colab": {
          "base_uri": "https://localhost:8080/"
        },
        "id": "y5j-TJN0FKyZ",
        "outputId": "9e3303df-9743-4eb8-ad8e-8085f3e44896"
      },
      "outputs": [
        {
          "name": "stdout",
          "output_type": "stream",
          "text": [
            "Requirement already satisfied: mediapipe in c:\\users\\himadhith\\appdata\\roaming\\python\\python39\\site-packages (0.9.0)\n",
            "Requirement already satisfied: numpy in c:\\users\\himadhith\\appdata\\local\\programs\\python\\python39\\lib\\site-packages (from mediapipe) (1.21.0)\n",
            "Requirement already satisfied: attrs>=19.1.0 in c:\\users\\himadhith\\appdata\\local\\programs\\python\\python39\\lib\\site-packages (from mediapipe) (21.4.0)\n",
            "Requirement already satisfied: flatbuffers>=2.0 in c:\\users\\himadhith\\appdata\\local\\programs\\python\\python39\\lib\\site-packages (from mediapipe) (2.0)\n",
            "Requirement already satisfied: matplotlib in c:\\users\\himadhith\\appdata\\local\\programs\\python\\python39\\lib\\site-packages (from mediapipe) (3.4.3)\n",
            "Requirement already satisfied: protobuf<4,>=3.11 in c:\\users\\himadhith\\appdata\\local\\programs\\python\\python39\\lib\\site-packages (from mediapipe) (3.19.1)\n",
            "Requirement already satisfied: absl-py in c:\\users\\himadhith\\appdata\\local\\programs\\python\\python39\\lib\\site-packages (from mediapipe) (1.0.0)\n",
            "Requirement already satisfied: opencv-contrib-python in c:\\users\\himadhith\\appdata\\roaming\\python\\python39\\site-packages (from mediapipe) (4.6.0.66)\n",
            "Requirement already satisfied: six in c:\\users\\himadhith\\appdata\\local\\programs\\python\\python39\\lib\\site-packages (from absl-py->mediapipe) (1.16.0)\n",
            "Requirement already satisfied: pillow>=6.2.0 in c:\\users\\himadhith\\appdata\\local\\programs\\python\\python39\\lib\\site-packages (from matplotlib->mediapipe) (9.3.0)\n",
            "Requirement already satisfied: kiwisolver>=1.0.1 in c:\\users\\himadhith\\appdata\\local\\programs\\python\\python39\\lib\\site-packages (from matplotlib->mediapipe) (1.3.2)\n",
            "Requirement already satisfied: cycler>=0.10 in c:\\users\\himadhith\\appdata\\local\\programs\\python\\python39\\lib\\site-packages (from matplotlib->mediapipe) (0.10.0)\n",
            "Requirement already satisfied: pyparsing>=2.2.1 in c:\\users\\himadhith\\appdata\\local\\programs\\python\\python39\\lib\\site-packages (from matplotlib->mediapipe) (2.4.7)\n",
            "Requirement already satisfied: python-dateutil>=2.7 in c:\\users\\himadhith\\appdata\\local\\programs\\python\\python39\\lib\\site-packages (from matplotlib->mediapipe) (2.8.1)\n"
          ]
        },
        {
          "name": "stderr",
          "output_type": "stream",
          "text": [
            "WARNING: Ignoring invalid distribution -ensorflow-intel (c:\\users\\himadhith\\appdata\\roaming\\python\\python39\\site-packages)\n",
            "WARNING: Ignoring invalid distribution -ensorflow-gpu (c:\\users\\himadhith\\appdata\\local\\programs\\python\\python39\\lib\\site-packages)\n",
            "WARNING: Ignoring invalid distribution -ensorflow-intel (c:\\users\\himadhith\\appdata\\roaming\\python\\python39\\site-packages)\n",
            "WARNING: Ignoring invalid distribution -ensorflow-gpu (c:\\users\\himadhith\\appdata\\local\\programs\\python\\python39\\lib\\site-packages)\n",
            "WARNING: Ignoring invalid distribution -ensorflow-intel (c:\\users\\himadhith\\appdata\\roaming\\python\\python39\\site-packages)\n",
            "WARNING: Ignoring invalid distribution -ensorflow-gpu (c:\\users\\himadhith\\appdata\\local\\programs\\python\\python39\\lib\\site-packages)\n",
            "WARNING: Ignoring invalid distribution -ensorflow-intel (c:\\users\\himadhith\\appdata\\roaming\\python\\python39\\site-packages)\n",
            "WARNING: Ignoring invalid distribution -ensorflow-gpu (c:\\users\\himadhith\\appdata\\local\\programs\\python\\python39\\lib\\site-packages)\n",
            "WARNING: Ignoring invalid distribution -ensorflow-intel (c:\\users\\himadhith\\appdata\\roaming\\python\\python39\\site-packages)\n",
            "WARNING: Ignoring invalid distribution -ensorflow-gpu (c:\\users\\himadhith\\appdata\\local\\programs\\python\\python39\\lib\\site-packages)\n",
            "WARNING: Ignoring invalid distribution -ensorflow-intel (c:\\users\\himadhith\\appdata\\roaming\\python\\python39\\site-packages)\n",
            "WARNING: Ignoring invalid distribution -ensorflow-gpu (c:\\users\\himadhith\\appdata\\local\\programs\\python\\python39\\lib\\site-packages)\n"
          ]
        }
      ],
      "source": [
        "!pip install mediapipe"
      ]
    },
    {
      "cell_type": "code",
      "execution_count": 10,
      "metadata": {
        "id": "ZgPDPwmiDi3F"
      },
      "outputs": [],
      "source": [
        "import cv2\n",
        "import time\n",
        "import numpy as np\n",
        "import mediapipe as mp\n",
        "import os\n",
        "import tensorflow as tf\n",
        "from tqdm import tqdm\n",
        "import matplotlib.pyplot as plt\n",
        "from sklearn.model_selection import train_test_split\n",
        "from tensorflow.keras.models import Sequential\n",
        "from tensorflow.keras.layers import Conv2D, Dense, MaxPooling2D, Flatten, Activation, Dropout"
      ]
    },
    {
      "cell_type": "markdown",
      "metadata": {
        "id": "DeaTW288Fhpk"
      },
      "source": [
        "## Get Dataset"
      ]
    },
    {
      "cell_type": "code",
      "execution_count": 11,
      "metadata": {
        "colab": {
          "base_uri": "https://localhost:8080/"
        },
        "id": "AfVErpkZFmJ0",
        "outputId": "182029d3-a76f-4d63-e88e-6e4a0a84406d"
      },
      "outputs": [],
      "source": [
        "filename = \"X-Ray-Scanner-Dataset\"\n",
        "datadir = os.path.join(os.getcwd(), filename)  \n"
      ]
    },
    {
      "cell_type": "markdown",
      "metadata": {
        "id": "z7X3oemEFJIA"
      },
      "source": [
        "## Model Training"
      ]
    },
    {
      "cell_type": "code",
      "execution_count": 18,
      "metadata": {
        "colab": {
          "base_uri": "https://localhost:8080/"
        },
        "id": "Jkc8HwKLRO2N",
        "outputId": "48b7d44f-b133-4cd8-fe0f-4aa03937da16"
      },
      "outputs": [
        {
          "name": "stdout",
          "output_type": "stream",
          "text": [
            "['Dangerous', 'Not Dangerous']\n"
          ]
        }
      ],
      "source": [
        "img_size = 100\n",
        " # root data directory\n",
        "CATEGORIES = os.listdir(datadir)\n",
        "print(CATEGORIES)"
      ]
    },
    {
      "cell_type": "code",
      "execution_count": 39,
      "metadata": {
        "colab": {
          "base_uri": "https://localhost:8080/"
        },
        "id": "K2jkYCcPFJIB",
        "outputId": "f1b3c7fe-99db-416b-bee4-fe142b8dbda3"
      },
      "outputs": [
        {
          "name": "stdout",
          "output_type": "stream",
          "text": [
            "c:\\Users\\Himadhith\\Desktop\\mi xray\\X-Ray-Detection-to-find-Contraband\\Version 3\\X-Ray-Scanner-Dataset\\Dangerous\n"
          ]
        },
        {
          "name": "stderr",
          "output_type": "stream",
          "text": [
            "100%|██████████| 1450/1450 [00:31<00:00, 46.36it/s]\n"
          ]
        },
        {
          "name": "stdout",
          "output_type": "stream",
          "text": [
            "c:\\Users\\Himadhith\\Desktop\\mi xray\\X-Ray-Detection-to-find-Contraband\\Version 3\\X-Ray-Scanner-Dataset\\Not Dangerous\n"
          ]
        },
        {
          "name": "stderr",
          "output_type": "stream",
          "text": [
            "100%|██████████| 1279/1279 [00:24<00:00, 51.36it/s]\n"
          ]
        }
      ],
      "source": [
        "# Define two empty list to contain image data\n",
        "x, y = [], []\n",
        "\n",
        "# Modifies all the images to one size for better results\n",
        "def PreProcess():\n",
        "    for category in CATEGORIES:\n",
        "        path = os.path.join(os.getcwd(),\"X-Ray-Scanner-Dataset\",category)\n",
        "        classIndex = CATEGORIES.index(category)\n",
        "        print(path)\n",
        "        for imgs in tqdm(os.listdir(path)):\n",
        "            # print(imgs)\n",
        "            img_arr = cv2.imread(os.path.join(path, imgs))\n",
        "            \n",
        "            # resize the image\n",
        "            resized_array = cv2.resize(img_arr, (img_size, img_size))\n",
        "            #cv2.imshow(\"images\", resized_array)\n",
        "            cv2.waitKey(1)\n",
        "            resized_array = resized_array/255.0\n",
        "            x.append(resized_array)\n",
        "            y.append(classIndex)\n",
        "          \n",
        "PreProcess()\n",
        "cv2.destroyAllWindows()"
      ]
    },
    {
      "cell_type": "code",
      "execution_count": 40,
      "metadata": {
        "id": "tu4eQRUeFJIB"
      },
      "outputs": [],
      "source": [
        "# Split data for training and testing\n",
        "X_train, X_test, y_train, y_test = train_test_split(x, y, test_size=0.20, random_state=42)\n",
        "\n",
        "# Convert and resize the data to a numpy array\n",
        "X_train = np.array(X_train).reshape(-1, img_size, img_size, 3)\n",
        "y_train = np.array(y_train)\n",
        "X_test = np.array(X_test).reshape(-1, img_size, img_size, 3)\n",
        "y_test = np.array(y_test)"
      ]
    },
    {
      "cell_type": "code",
      "execution_count": 41,
      "metadata": {
        "colab": {
          "base_uri": "https://localhost:8080/"
        },
        "id": "uVvMl3haFJIC",
        "outputId": "2a94b296-d840-47f6-e20e-e1aeb48708a7"
      },
      "outputs": [
        {
          "name": "stdout",
          "output_type": "stream",
          "text": [
            "Model: \"sequential_1\"\n",
            "_________________________________________________________________\n",
            " Layer (type)                Output Shape              Param #   \n",
            "=================================================================\n",
            " conv2d_4 (Conv2D)           (None, 98, 98, 64)        1792      \n",
            "                                                                 \n",
            " activation_5 (Activation)   (None, 98, 98, 64)        0         \n",
            "                                                                 \n",
            " max_pooling2d_3 (MaxPooling  (None, 49, 49, 64)       0         \n",
            " 2D)                                                             \n",
            "                                                                 \n",
            " conv2d_5 (Conv2D)           (None, 47, 47, 256)       147712    \n",
            "                                                                 \n",
            " activation_6 (Activation)   (None, 47, 47, 256)       0         \n",
            "                                                                 \n",
            " max_pooling2d_4 (MaxPooling  (None, 23, 23, 256)      0         \n",
            " 2D)                                                             \n",
            "                                                                 \n",
            " conv2d_6 (Conv2D)           (None, 21, 21, 128)       295040    \n",
            "                                                                 \n",
            " activation_7 (Activation)   (None, 21, 21, 128)       0         \n",
            "                                                                 \n",
            " dropout_2 (Dropout)         (None, 21, 21, 128)       0         \n",
            "                                                                 \n",
            " conv2d_7 (Conv2D)           (None, 19, 19, 32)        36896     \n",
            "                                                                 \n",
            " activation_8 (Activation)   (None, 19, 19, 32)        0         \n",
            "                                                                 \n",
            " max_pooling2d_5 (MaxPooling  (None, 9, 9, 32)         0         \n",
            " 2D)                                                             \n",
            "                                                                 \n",
            " dropout_3 (Dropout)         (None, 9, 9, 32)          0         \n",
            "                                                                 \n",
            " flatten_1 (Flatten)         (None, 2592)              0         \n",
            "                                                                 \n",
            " dense_3 (Dense)             (None, 100)               259300    \n",
            "                                                                 \n",
            " dense_4 (Dense)             (None, 16)                1616      \n",
            "                                                                 \n",
            " dense_5 (Dense)             (None, 2)                 34        \n",
            "                                                                 \n",
            " activation_9 (Activation)   (None, 2)                 0         \n",
            "                                                                 \n",
            "=================================================================\n",
            "Total params: 742,390\n",
            "Trainable params: 742,390\n",
            "Non-trainable params: 0\n",
            "_________________________________________________________________\n"
          ]
        }
      ],
      "source": [
        "# Create the model architecture \n",
        "\n",
        "model = Sequential()\n",
        "\n",
        "model.add(Conv2D(64,(3, 3), input_shape=(img_size, img_size, 3)))\n",
        "model.add(Activation('relu'))\n",
        "model.add(MaxPooling2D(pool_size = (2, 2)))\n",
        "\n",
        "model.add(Conv2D(256, (3, 3)))\n",
        "model.add(Activation('relu'))\n",
        "model.add(MaxPooling2D(pool_size = (2, 2)))\n",
        "\n",
        "model.add(Conv2D(128, (3, 3)))\n",
        "model.add(Activation('relu'))\n",
        "model.add(Dropout(0.25))\n",
        "\n",
        "model.add(Conv2D(32, (3, 3)))\n",
        "model.add(Activation('relu'))\n",
        "model.add(MaxPooling2D(pool_size = (2, 2)))\n",
        "\n",
        "model.add(Dropout(0.25))\n",
        "model.add(Flatten())\n",
        "model.add(Dense(100, activation='relu'))\n",
        "model.add(Dense(16, activation='relu'))\n",
        "\n",
        "model.add(Dense(len(CATEGORIES)))\n",
        "model.add(Activation('softmax'))\n",
        "\n",
        "# compile the model\n",
        "\n",
        "model.compile(optimizer='adam', loss = 'sparse_categorical_crossentropy', \n",
        "metrics=['accuracy'])\n",
        "model.summary()"
      ]
    },
    {
      "cell_type": "markdown",
      "metadata": {
        "id": "Qmks7DdjFJIC"
      },
      "source": [
        "## Train model"
      ]
    },
    {
      "cell_type": "code",
      "execution_count": 44,
      "metadata": {
        "colab": {
          "base_uri": "https://localhost:8080/"
        },
        "id": "5ZWl31nwFJIC",
        "outputId": "da84d057-c3c0-4305-b9ab-fd7bffa36d7b"
      },
      "outputs": [
        {
          "name": "stdout",
          "output_type": "stream",
          "text": [
            "Epoch 1/10\n",
            "48/48 [==============================] - ETA: 0s - loss: 0.4129 - accuracy: 0.7952\n",
            "Epoch 1: saving model to c:\\Users\\Himadhith\\Desktop\\mi xray\\X-Ray-Detection-to-find-Contraband\\Version 3\\X-Ray-Scanner-Dataset\\checkmodels\n",
            "48/48 [==============================] - 4s 62ms/step - loss: 0.4129 - accuracy: 0.7952 - val_loss: 0.2912 - val_accuracy: 0.9282\n",
            "Epoch 2/10\n",
            "47/48 [============================>.] - ETA: 0s - loss: 0.1250 - accuracy: 0.9608\n",
            "Epoch 2: saving model to c:\\Users\\Himadhith\\Desktop\\mi xray\\X-Ray-Detection-to-find-Contraband\\Version 3\\X-Ray-Scanner-Dataset\\checkmodels\n",
            "48/48 [==============================] - 2s 34ms/step - loss: 0.1256 - accuracy: 0.9601 - val_loss: 0.0835 - val_accuracy: 0.9695\n",
            "Epoch 3/10\n",
            "47/48 [============================>.] - ETA: 0s - loss: 0.0659 - accuracy: 0.9814\n",
            "Epoch 3: saving model to c:\\Users\\Himadhith\\Desktop\\mi xray\\X-Ray-Detection-to-find-Contraband\\Version 3\\X-Ray-Scanner-Dataset\\checkmodels\n",
            "48/48 [==============================] - 2s 35ms/step - loss: 0.0674 - accuracy: 0.9810 - val_loss: 0.0181 - val_accuracy: 0.9954\n",
            "Epoch 4/10\n",
            "47/48 [============================>.] - ETA: 0s - loss: 0.0268 - accuracy: 0.9927\n",
            "Epoch 4: saving model to c:\\Users\\Himadhith\\Desktop\\mi xray\\X-Ray-Detection-to-find-Contraband\\Version 3\\X-Ray-Scanner-Dataset\\checkmodels\n",
            "48/48 [==============================] - 2s 34ms/step - loss: 0.0274 - accuracy: 0.9921 - val_loss: 0.0310 - val_accuracy: 0.9985\n",
            "Epoch 5/10\n",
            "47/48 [============================>.] - ETA: 0s - loss: 0.0209 - accuracy: 0.9947\n",
            "Epoch 5: saving model to c:\\Users\\Himadhith\\Desktop\\mi xray\\X-Ray-Detection-to-find-Contraband\\Version 3\\X-Ray-Scanner-Dataset\\checkmodels\n",
            "48/48 [==============================] - 2s 34ms/step - loss: 0.0207 - accuracy: 0.9948 - val_loss: 0.0617 - val_accuracy: 0.9725\n",
            "Epoch 6/10\n",
            "47/48 [============================>.] - ETA: 0s - loss: 0.1117 - accuracy: 0.9574\n",
            "Epoch 6: saving model to c:\\Users\\Himadhith\\Desktop\\mi xray\\X-Ray-Detection-to-find-Contraband\\Version 3\\X-Ray-Scanner-Dataset\\checkmodels\n",
            "48/48 [==============================] - 2s 34ms/step - loss: 0.1102 - accuracy: 0.9581 - val_loss: 0.0710 - val_accuracy: 0.9740\n",
            "Epoch 7/10\n",
            "47/48 [============================>.] - ETA: 0s - loss: 0.0385 - accuracy: 0.9920\n",
            "Epoch 7: saving model to c:\\Users\\Himadhith\\Desktop\\mi xray\\X-Ray-Detection-to-find-Contraband\\Version 3\\X-Ray-Scanner-Dataset\\checkmodels\n",
            "48/48 [==============================] - 2s 34ms/step - loss: 0.0380 - accuracy: 0.9921 - val_loss: 0.0250 - val_accuracy: 0.9924\n",
            "Epoch 8/10\n",
            "47/48 [============================>.] - ETA: 0s - loss: 0.0254 - accuracy: 0.9940\n",
            "Epoch 8: saving model to c:\\Users\\Himadhith\\Desktop\\mi xray\\X-Ray-Detection-to-find-Contraband\\Version 3\\X-Ray-Scanner-Dataset\\checkmodels\n",
            "48/48 [==============================] - 2s 34ms/step - loss: 0.0253 - accuracy: 0.9941 - val_loss: 0.0399 - val_accuracy: 0.9924\n",
            "Epoch 9/10\n",
            "47/48 [============================>.] - ETA: 0s - loss: 0.0226 - accuracy: 0.9953\n",
            "Epoch 9: saving model to c:\\Users\\Himadhith\\Desktop\\mi xray\\X-Ray-Detection-to-find-Contraband\\Version 3\\X-Ray-Scanner-Dataset\\checkmodels\n",
            "48/48 [==============================] - 2s 33ms/step - loss: 0.0226 - accuracy: 0.9954 - val_loss: 0.0332 - val_accuracy: 0.9924\n",
            "Epoch 10/10\n",
            "47/48 [============================>.] - ETA: 0s - loss: 0.0150 - accuracy: 0.9967\n",
            "Epoch 10: saving model to c:\\Users\\Himadhith\\Desktop\\mi xray\\X-Ray-Detection-to-find-Contraband\\Version 3\\X-Ray-Scanner-Dataset\\checkmodels\n",
            "48/48 [==============================] - 2s 34ms/step - loss: 0.0164 - accuracy: 0.9961 - val_loss: 0.0210 - val_accuracy: 0.9924\n",
            "Time taken:  19.449646472930908\n"
          ]
        }
      ],
      "source": [
        "batch_size = 32\n",
        "epochs = 10\n",
        "t1 = time.time()\n",
        "checkpoint_path = os.path.join(datadir,\"checkmodels\")\n",
        "cp_callback = tf.keras.callbacks.ModelCheckpoint(filepath=checkpoint_path, save_weights_only=True, verbose=1)\n",
        "\n",
        "# fit the model\n",
        "history = model.fit(X_train, y_train, batch_size = batch_size, epochs=epochs, validation_split=0.3, verbose = 1, callbacks=[cp_callback])\n",
        "model.save('{}.h5'.format(\"model\"))\n",
        "t2 = time.time()\n",
        "print('Time taken: ',t2-t1)"
      ]
    },
    {
      "cell_type": "code",
      "execution_count": 45,
      "metadata": {
        "colab": {
          "base_uri": "https://localhost:8080/"
        },
        "id": "COAYJYc7FJID",
        "outputId": "f6058a8a-da98-45a7-8601-e2191cc5e5bd"
      },
      "outputs": [
        {
          "name": "stdout",
          "output_type": "stream",
          "text": [
            "18/18 [==============================] - 1s 27ms/step - loss: 0.0264 - accuracy: 0.9927\n"
          ]
        }
      ],
      "source": [
        "validation_loss, validation_accuracy = model.evaluate(X_test, y_test)"
      ]
    },
    {
      "cell_type": "code",
      "execution_count": 46,
      "metadata": {
        "colab": {
          "base_uri": "https://localhost:8080/",
          "height": 301
        },
        "id": "lmytFX-SPfKo",
        "outputId": "eb5e4021-1896-4247-c3f1-83ccb91d0152"
      },
      "outputs": [
        {
          "data": {
            "text/plain": [
              "<matplotlib.legend.Legend at 0x1ca7f872fd0>"
            ]
          },
          "execution_count": 46,
          "metadata": {},
          "output_type": "execute_result"
        },
        {
          "data": {
            "image/png": "[encoded data removed]",
            "text/plain": [
              "<Figure size 432x288 with 1 Axes>"
            ]
          },
          "metadata": {
            "needs_background": "light"
          },
          "output_type": "display_data"
        }
      ],
      "source": [
        "plt.plot(history.history['accuracy'], label = 'Accuracy', linestyle = '--' , color='crimson')\n",
        "plt.plot(history.history['val_accuracy'], label = 'Validation Accuracy', linestyle = 'dashdot', color='springgreen')\n",
        "plt.xlabel('Epochs')\n",
        "plt.ylabel('Accuracy')\n",
        "plt.ylim(0, 1)\n",
        "plt.xlim(0, 3)\n",
        "plt.legend(loc = \"lower right\")"
      ]
    },
    {
      "cell_type": "code",
      "execution_count": 47,
      "metadata": {},
      "outputs": [
        {
          "name": "stdout",
          "output_type": "stream",
          "text": [
            "18/18 [==============================] - 0s 17ms/step\n",
            "[[1.0000000e+00 3.8206014e-16]\n",
            " [4.2775846e-06 9.9999571e-01]\n",
            " [9.8113993e-18 1.0000000e+00]\n",
            " ...\n",
            " [9.8979650e-20 1.0000000e+00]\n",
            " [1.0000000e+00 1.4210834e-11]\n",
            " [5.3556645e-21 1.0000000e+00]]\n"
          ]
        }
      ],
      "source": [
        "#Show the predictions from the model\n",
        "predictions = model.predict(X_test)\n",
        "print(predictions)"
      ]
    },
    {
      "cell_type": "code",
      "execution_count": 48,
      "metadata": {},
      "outputs": [],
      "source": [
        "from tensorflow.keras.models import load_model\n"
      ]
    },
    {
      "cell_type": "code",
      "execution_count": 33,
      "metadata": {},
      "outputs": [],
      "source": [
        "model_save = load_model(os.path.join(os.getcwd(),'model.h5'))"
      ]
    },
    {
      "cell_type": "code",
      "execution_count": 5,
      "metadata": {},
      "outputs": [],
      "source": [
        "img_size=100"
      ]
    },
    {
      "cell_type": "code",
      "execution_count": 59,
      "metadata": {},
      "outputs": [
        {
          "name": "stdout",
          "output_type": "stream",
          "text": [
            "1/1 [==============================] - 0s 28ms/step\n",
            "[[0.17702746 0.8229725 ]]\n",
            "Not Dangerous\n"
          ]
        }
      ],
      "source": [
        "#Predict for the particular image\n",
        "def predict(img):\n",
        "    img = cv2.imread(img)\n",
        "    img = cv2.resize(img, (img_size, img_size))\n",
        "    img = img/255.0\n",
        "    img = np.array(img).reshape(-1, img_size, img_size, 3)\n",
        "    prediction = model.predict(img)\n",
        "    print(prediction)\n",
        "    print(CATEGORIES[np.argmax(prediction)])\n",
        "\n",
        "img = os.path.join(os.getcwd(),\"test.jpeg\")\n",
        "predict(img)"
      ]
    }
  ],
  "metadata": {
    "colab": {
      "name": "main_Attempt2.ipynb",
      "provenance": []
    },
    "kernelspec": {
      "display_name": "Python 3.9.9 64-bit",
      "language": "python",
      "name": "python3"
    },
    "language_info": {
      "codemirror_mode": {
        "name": "ipython",
        "version": 3
      },
      "file_extension": ".py",
      "mimetype": "text/x-python",
      "name": "python",
      "nbconvert_exporter": "python",
      "pygments_lexer": "ipython3",
      "version": "3.9.9"
    },
    "vscode": {
      "interpreter": {
        "hash": "ccd52628f0297a28ec99425ee745c329a28ed063079cd060cb1869b0bb3e1ff1"
      }
    }
  },
  "nbformat": 4,
  "nbformat_minor": 0
}
